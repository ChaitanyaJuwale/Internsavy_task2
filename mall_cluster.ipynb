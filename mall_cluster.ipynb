{
  "cells": [
    {
      "cell_type": "code",
      "execution_count": null,
      "metadata": {
        "trusted": true
      },
      "outputs": [],
      "source": [
        "# importing the libraries\n",
        "import numpy as np\n",
        "import pandas as pd\n",
        "import matplotlib.pyplot as plt\n",
        "import seaborn as sns"
      ]
    },
    {
      "cell_type": "code",
      "execution_count": null,
      "metadata": {},
      "outputs": [],
      "source": [
        "# Use the correct relative file path to the uploaded CSV file\n",
        "file_path = 'Mall_Customers.csv'  \n",
        "\n",
        "# Load the dataset\n",
        "data = pd.read_csv(file_path)"
      ]
    },
    {
      "cell_type": "markdown",
      "metadata": {},
      "source": [
        "Data analysis"
      ]
    },
    {
      "cell_type": "code",
      "execution_count": null,
      "metadata": {
        "trusted": true
      },
      "outputs": [],
      "source": [
        "data.head()"
      ]
    },
    {
      "cell_type": "code",
      "execution_count": null,
      "metadata": {
        "trusted": true
      },
      "outputs": [],
      "source": [
        "data.shape\n"
      ]
    },
    {
      "cell_type": "code",
      "execution_count": null,
      "metadata": {
        "trusted": true
      },
      "outputs": [],
      "source": [
        "data.describe()"
      ]
    },
    {
      "cell_type": "code",
      "execution_count": null,
      "metadata": {
        "trusted": true
      },
      "outputs": [],
      "source": [
        "data.isnull().sum()"
      ]
    },
    {
      "cell_type": "markdown",
      "metadata": {},
      "source": [
        "The following code confirms that our dataset is clean and doesn't contain any missing values.\n",
        "This provides a solid foundation for proceeding with data exploration and clustering analysis"
      ]
    },
    {
      "cell_type": "code",
      "execution_count": null,
      "metadata": {
        "trusted": true
      },
      "outputs": [],
      "source": [
        "# Remove the 'CustomerID' column from the dataset\n",
        "data_without_id = data.drop(columns=['CustomerID'])\n",
        "\n",
        "# Calculate the correlation matrix\n",
        "correlation_matrix = data_without_id.corr(numeric_only=True)\n",
        "\n",
        "# Visualize the correlation matrix\n",
        "import seaborn as sns\n",
        "import matplotlib.pyplot as plt\n",
        "\n",
        "plt.figure(figsize=(6, 4))\n",
        "sns.heatmap(correlation_matrix, annot=True, cmap='coolwarm', center=0)\n",
        "plt.title('Correlation Matrix')\n",
        "plt.show()\n"
      ]
    },
    {
      "cell_type": "markdown",
      "metadata": {},
      "source": [
        "The off-diagonal cells show the correlation coefficients between pairs of variables. For example, the correlation between \"Age\" and \"Spending Score (1-100)\" is approximately -0.327227, indicating a negative correlation between these two variables.\n",
        "You can interpret these values as discussed earlier. For instance, the negative correlation between \"Age\" and \"Spending Score\" suggests that, on average, as the age of customers increases, their spending score tends to decrease."
      ]
    },
    {
      "cell_type": "code",
      "execution_count": null,
      "metadata": {
        "trusted": true
      },
      "outputs": [],
      "source": [
        "# Finding the number of males and females in the data\n",
        "data.Genre.value_counts()"
      ]
    },
    {
      "cell_type": "code",
      "execution_count": null,
      "metadata": {
        "trusted": true
      },
      "outputs": [],
      "source": [
        "# Finding the number of males and females in the data\n",
        "gender_counts = data.Genre.value_counts()\n",
        "\n",
        "# Create a bar plot\n",
        "plt.figure(figsize=(6, 4))\n",
        "plt.bar(gender_counts.index, gender_counts.values, color=['blue', 'pink'])\n",
        "plt.xlabel('Gender')\n",
        "plt.ylabel('Count')\n",
        "plt.title('Gender Distribution in the Dataset')\n",
        "plt.show()\n"
      ]
    },
    {
      "cell_type": "code",
      "execution_count": null,
      "metadata": {
        "trusted": true
      },
      "outputs": [],
      "source": [
        "import matplotlib.pyplot as plt\n",
        "\n",
        "# Calculate the average spending score for each gender\n",
        "average_spending_by_gender = data.groupby('Genre')['Spending Score (1-100)'].mean()\n",
        "\n",
        "# Create a bar plot\n",
        "plt.figure(figsize=(6, 4))\n",
        "average_spending_by_gender.plot(kind='bar', color=['blue', 'pink'])\n",
        "plt.xlabel('Gender')\n",
        "plt.ylabel('Average Spending Score')\n",
        "plt.title('Average Spending Score by Gender')\n",
        "plt.xticks(rotation=0)\n",
        "plt.show()\n"
      ]
    },
    {
      "cell_type": "code",
      "execution_count": null,
      "metadata": {
        "trusted": true
      },
      "outputs": [],
      "source": [
        "import matplotlib.pyplot as plt\n",
        "\n",
        "# Create a histogram for Age\n",
        "plt.figure(figsize=(8, 6))\n",
        "plt.hist(data['Age'], bins=20, color='skyblue', edgecolor='black')\n",
        "plt.xlabel('Age')\n",
        "plt.ylabel('Frequency')\n",
        "plt.title('Distribution of Age')\n",
        "plt.show()\n"
      ]
    },
    {
      "cell_type": "code",
      "execution_count": null,
      "metadata": {
        "trusted": true
      },
      "outputs": [],
      "source": [
        "mean_age = data['Age'].mean()\n",
        "median_age = data['Age'].median()\n",
        "std_dev_age = data['Age'].std()\n",
        "\n",
        "print(f\"Mean Age: {mean_age:.2f}\")\n",
        "print(f\"Median Age: {median_age:.2f}\")\n",
        "print(f\"Standard Deviation of Age: {std_dev_age:.2f}\")\n"
      ]
    },
    {
      "cell_type": "code",
      "execution_count": null,
      "metadata": {
        "trusted": true
      },
      "outputs": [],
      "source": [
        "plt.figure(figsize=(10, 6))\n",
        "plt.scatter(data['Age'], data['Spending Score (1-100)'], color='purple', alpha=0.7)\n",
        "plt.xlabel('Age')\n",
        "plt.ylabel('Spending Score (1-100)')\n",
        "plt.title('Scatter Plot of Age vs. Spending Score')\n",
        "plt.show()\n"
      ]
    },
    {
      "cell_type": "code",
      "execution_count": null,
      "metadata": {
        "trusted": true
      },
      "outputs": [],
      "source": [
        "# Create age groups\n",
        "bins = [0, 20, 30, 40, 50, 60, float('inf')]\n",
        "labels = ['<20', '20-29', '30-39', '40-49', '50-59', '60+']\n",
        "data['Age Group'] = pd.cut(data['Age'], bins=bins, labels=labels)\n",
        "\n",
        "# Calculate average spending score for each age group\n",
        "average_spending_by_age_group = data.groupby('Age Group')['Spending Score (1-100)'].mean()\n",
        "\n",
        "# Create a bar plot for average spending by age group\n",
        "plt.figure(figsize=(8, 6))\n",
        "average_spending_by_age_group.plot(kind='bar', color='orange')\n",
        "plt.xlabel('Age Group')\n",
        "plt.ylabel('Average Spending Score')\n",
        "plt.title('Average Spending Score by Age Group')\n",
        "plt.xticks(rotation=0)\n",
        "plt.show()\n"
      ]
    },
    {
      "cell_type": "code",
      "execution_count": null,
      "metadata": {
        "trusted": true
      },
      "outputs": [],
      "source": [
        "import matplotlib.pyplot as plt\n",
        "\n",
        "# Create a histogram for Annual Income\n",
        "plt.figure(figsize=(8, 6))\n",
        "plt.hist(data['Annual Income (k$)'], bins=20, color='green', edgecolor='black')\n",
        "plt.xlabel('Annual Income (k$)')\n",
        "plt.ylabel('Frequency')\n",
        "plt.title('Distribution of Annual Income')\n",
        "plt.show()\n"
      ]
    },
    {
      "cell_type": "code",
      "execution_count": null,
      "metadata": {
        "trusted": true
      },
      "outputs": [],
      "source": [
        "mean_income = data['Annual Income (k$)'].mean()\n",
        "median_income = data['Annual Income (k$)'].median()\n",
        "std_dev_income = data['Annual Income (k$)'].std()\n",
        "\n",
        "print(f\"Mean Annual Income: {mean_income:.2f} k$\")\n",
        "print(f\"Median Annual Income: {median_income:.2f} k$\")\n",
        "print(f\"Standard Deviation of Annual Income: {std_dev_income:.2f} k$\")\n"
      ]
    },
    {
      "cell_type": "code",
      "execution_count": null,
      "metadata": {
        "trusted": true
      },
      "outputs": [],
      "source": [
        "plt.figure(figsize=(10, 6))\n",
        "plt.scatter(data['Annual Income (k$)'], data['Spending Score (1-100)'], color='orange', alpha=0.7)\n",
        "plt.xlabel('Annual Income (k$)')\n",
        "plt.ylabel('Spending Score (1-100)')\n",
        "plt.title('Scatter Plot of Annual Income vs. Spending Score')\n",
        "plt.show()\n"
      ]
    },
    {
      "cell_type": "code",
      "execution_count": null,
      "metadata": {
        "trusted": true
      },
      "outputs": [],
      "source": [
        "# Create income groups\n",
        "income_bins = [0, 30, 60, 90, 120, float('inf')]\n",
        "income_labels = ['<30k', '30-59k', '60-89k', '90-119k', '120k+']\n",
        "data['Income Group'] = pd.cut(data['Annual Income (k$)'], bins=income_bins, labels=income_labels)\n",
        "\n",
        "# Calculate average spending score for each income group\n",
        "average_spending_by_income_group = data.groupby('Income Group')['Spending Score (1-100)'].mean()\n",
        "\n",
        "# Create a bar plot for average spending by income group\n",
        "plt.figure(figsize=(8, 6))\n",
        "average_spending_by_income_group.plot(kind='bar', color='purple')\n",
        "plt.xlabel('Income Group')\n",
        "plt.ylabel('Average Spending Score')\n",
        "plt.title('Average Spending Score by Income Group')\n",
        "plt.xticks(rotation=0)\n",
        "plt.show()\n"
      ]
    },
    {
      "cell_type": "code",
      "execution_count": null,
      "metadata": {
        "trusted": true
      },
      "outputs": [],
      "source": [
        "import matplotlib.pyplot as plt\n",
        "\n",
        "# Create a histogram for Spending Score\n",
        "plt.figure(figsize=(8, 6))\n",
        "plt.hist(data['Spending Score (1-100)'], bins=20, color='purple', edgecolor='black')\n",
        "plt.xlabel('Spending Score (1-100)')\n",
        "plt.ylabel('Frequency')\n",
        "plt.title('Distribution of Spending Score')\n",
        "plt.show()\n"
      ]
    },
    {
      "cell_type": "code",
      "execution_count": null,
      "metadata": {
        "trusted": true
      },
      "outputs": [],
      "source": [
        "mean_spending = data['Spending Score (1-100)'].mean()\n",
        "median_spending = data['Spending Score (1-100)'].median()\n",
        "std_dev_spending = data['Spending Score (1-100)'].std()\n",
        "\n",
        "print(f\"Mean Spending Score: {mean_spending:.2f}\")\n",
        "print(f\"Median Spending Score: {median_spending:.2f}\")\n",
        "print(f\"Standard Deviation of Spending Score: {std_dev_spending:.2f}\")\n"
      ]
    },
    {
      "cell_type": "markdown",
      "metadata": {},
      "source": [
        "K-Means Clustering\n",
        "Making clusters based on Annual income and Spending Score."
      ]
    },
    {
      "cell_type": "code",
      "execution_count": null,
      "metadata": {
        "trusted": true
      },
      "outputs": [],
      "source": [
        "from sklearn.cluster import KMeans\n",
        "import matplotlib.pyplot as plt\n",
        "# Taking annual income and spending score in x to make clusters\n",
        "x=data.iloc[:,[3,4]]\n",
        "# List to store Within Cluster Sum of Squares (WCSS) values\n",
        "wcss = []\n",
        "\n",
        "# Iterate over a range of cluster numbers\n",
        "for i in range(1, 11):\n",
        "    kmeans = KMeans(n_clusters=i, init=\"k-means++\", max_iter=300, n_init=10, random_state=0)\n",
        "    kmeans.fit(x)  # Assuming 'x' represents your feature data\n",
        "    wcss.append(kmeans.inertia_)  # Append WCSS value to the list\n",
        "\n",
        "# Plot the elbow curve\n",
        "plt.plot(range(1, 11), wcss, marker='o')\n",
        "plt.xlabel(\"Number of Clusters\")\n",
        "plt.ylabel(\"WCSS\")\n",
        "plt.title(\"Elbow Method\")\n",
        "plt.show()\n"
      ]
    },
    {
      "cell_type": "markdown",
      "metadata": {},
      "source": [
        "So the optimal number of clusters = 5"
      ]
    },
    {
      "cell_type": "code",
      "execution_count": null,
      "metadata": {
        "trusted": true
      },
      "outputs": [],
      "source": [
        "from sklearn.cluster import KMeans\n",
        "\n",
        "# Taking annual income and spending score in x to make clusters\n",
        "x = data.iloc[:, [3, 4]]\n",
        "\n",
        "# Chosen optimal number of clusters\n",
        "num_clusters = 5\n",
        "\n",
        "# Initialize KMeans model\n",
        "kmeans = KMeans(n_clusters=num_clusters, init=\"k-means++\", max_iter=300, n_init=10, random_state=0)\n",
        "\n",
        "# Fit the model to the data and get cluster labels\n",
        "cluster_labels = kmeans.fit_predict(x)\n",
        "\n",
        "# Add cluster labels to the original data\n",
        "data['Cluster'] = cluster_labels\n"
      ]
    },
    {
      "cell_type": "code",
      "execution_count": null,
      "metadata": {
        "trusted": true
      },
      "outputs": [],
      "source": [
        "import matplotlib.pyplot as plt\n",
        "\n",
        "# Scatter plot of 'Annual Income' vs 'Spending Score', colored by cluster\n",
        "plt.figure(figsize=(10, 6))\n",
        "for cluster_id in range(num_clusters):\n",
        "    cluster_data = data[data['Cluster'] == cluster_id]\n",
        "    plt.scatter(cluster_data['Annual Income (k$)'], cluster_data['Spending Score (1-100)'],\n",
        "                label=f'Cluster {cluster_id + 1}', alpha=0.7)\n",
        "\n",
        "# Plot cluster centroids with smaller markers\n",
        "plt.scatter(kmeans.cluster_centers_[:, 0], kmeans.cluster_centers_[:, 1],\n",
        "            s=100, c='black', marker='X', label='Centroids')\n",
        "\n",
        "plt.xlabel('Annual Income (k$)')\n",
        "plt.ylabel('Spending Score (1-100)')\n",
        "plt.title('Clusters of Customers with Centroids')\n",
        "plt.legend()\n",
        "plt.show()\n"
      ]
    },
    {
      "cell_type": "markdown",
      "metadata": {},
      "source": [
        "Cluster 1 contains customers with high annual income but low spending score.\n",
        "\n",
        "Cluster 2 contains customers with average annual income and average spending score.\n",
        "\n",
        "Cluster 3 contains customers with high annual income and high spending score.\n",
        "\n",
        "Cluster 4 contains customers with low annual income but high spending score.\n",
        "\n",
        "Cluster 5 contains customers with low annual income and low spending score."
      ]
    },
    {
      "cell_type": "code",
      "execution_count": null,
      "metadata": {
        "trusted": true
      },
      "outputs": [],
      "source": [
        "from sklearn.preprocessing import StandardScaler\n",
        "import pandas as pd\n",
        "import matplotlib.pyplot as plt\n",
        "import scipy.cluster.hierarchy as sch  # Import the hierarchy module from scipy\n",
        "\n",
        "\n",
        "# Normalize the features\n",
        "scaler = StandardScaler()\n",
        "x_age_spending_normalized = scaler.fit_transform(x_age_spending)\n",
        "\n",
        "# Perform hierarchical clustering using Ward's method on normalized data\n",
        "dendrogram = sch.dendrogram(sch.linkage(x_age_spending_normalized, method='ward'))\n",
        "\n",
        "plt.xlabel('Customers')\n",
        "plt.ylabel('Euclidean Distances')\n",
        "plt.title('Dendrogram')\n",
        "plt.show()\n"
      ]
    }
  ],
  "metadata": {
    "kernelspec": {
      "display_name": "Python (Pyodide)",
      "language": "python",
      "name": "python"
    },
    "language_info": {
      "codemirror_mode": {
        "name": "python",
        "version": 3
      },
      "file_extension": ".py",
      "mimetype": "text/x-python",
      "name": "python",
      "nbconvert_exporter": "python",
      "pygments_lexer": "ipython3",
      "version": "3.8"
    }
  },
  "nbformat": 4,
  "nbformat_minor": 4
}
